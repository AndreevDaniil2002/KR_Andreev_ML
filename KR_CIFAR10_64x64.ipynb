{
  "nbformat": 4,
  "nbformat_minor": 0,
  "metadata": {
    "colab": {
      "provenance": [],
      "gpuType": "T4"
    },
    "kernelspec": {
      "name": "python3",
      "display_name": "Python 3"
    },
    "language_info": {
      "name": "python"
    },
    "accelerator": "GPU",
    "gpuClass": "standard"
  },
  "cells": [
    {
      "cell_type": "code",
      "execution_count": null,
      "metadata": {
        "id": "seAr8Yl6-A1T"
      },
      "outputs": [],
      "source": [
        "import torch\n",
        "import pandas as pd\n",
        "import numpy as np\n",
        "import torchvision\n",
        "import torchvision.transforms as transforms\n",
        "import torch.nn as nn\n",
        "import torch.nn.functional as F\n",
        "import torch.optim as optim\n",
        "import matplotlib.pyplot as plt"
      ]
    },
    {
      "cell_type": "code",
      "source": [
        "train_on_gpu = torch.cuda.is_available()\n",
        "\n",
        "if not train_on_gpu:\n",
        "    print('CUDA is not available.  Training on CPU ...')\n",
        "else:\n",
        "    print('CUDA is available!  Training on GPU ...')"
      ],
      "metadata": {
        "id": "oGOKTa1M-F31",
        "colab": {
          "base_uri": "https://localhost:8080/"
        },
        "outputId": "3d81e268-a0b0-4297-d942-3376f0ea091c"
      },
      "execution_count": null,
      "outputs": [
        {
          "output_type": "stream",
          "name": "stdout",
          "text": [
            "CUDA is available!  Training on GPU ...\n"
          ]
        }
      ]
    },
    {
      "cell_type": "code",
      "source": [
        "transform = transforms.Compose(\n",
        "    [transforms.Resize((64,64)),\n",
        "    transforms.ToTensor(),\n",
        "    transforms.Normalize((0.5, 0.5, 0.5), (0.5, 0.5, 0.5))]\n",
        ")"
      ],
      "metadata": {
        "id": "3kbViBtV-KIj"
      },
      "execution_count": null,
      "outputs": []
    },
    {
      "cell_type": "code",
      "source": [
        "batch_size = 128"
      ],
      "metadata": {
        "id": "3hEiKixT-OOq"
      },
      "execution_count": null,
      "outputs": []
    },
    {
      "cell_type": "code",
      "source": [
        "train_dataset = torchvision.datasets.CIFAR10(root='./data', train=True, download=True, transform=transform)\n",
        "train_loader = torch.utils.data.DataLoader(train_dataset, batch_size=batch_size, shuffle=True, num_workers=0)\n",
        "\n",
        "test_dataset = torchvision.datasets.CIFAR10(root='./data', train=False, download=True, transform=transform)\n",
        "test_loader = torch.utils.data.DataLoader(test_dataset, batch_size=batch_size, shuffle=True, num_workers=0)"
      ],
      "metadata": {
        "id": "1AflzAdm-QJH",
        "colab": {
          "base_uri": "https://localhost:8080/"
        },
        "outputId": "74da021f-19ce-4e61-bb3e-aaeb29ef9a11"
      },
      "execution_count": null,
      "outputs": [
        {
          "output_type": "stream",
          "name": "stdout",
          "text": [
            "Downloading https://www.cs.toronto.edu/~kriz/cifar-10-python.tar.gz to ./data/cifar-10-python.tar.gz\n"
          ]
        },
        {
          "output_type": "stream",
          "name": "stderr",
          "text": [
            "100%|██████████| 170498071/170498071 [00:02<00:00, 78641560.73it/s]\n"
          ]
        },
        {
          "output_type": "stream",
          "name": "stdout",
          "text": [
            "Extracting ./data/cifar-10-python.tar.gz to ./data\n",
            "Files already downloaded and verified\n"
          ]
        }
      ]
    },
    {
      "cell_type": "code",
      "source": [
        "# выводим информацию о датасете\n",
        "print(\"Размер тренировочного датасета: \", len(train_dataset))\n",
        "print(\"Размер тестового датасета: \", len(test_dataset))\n",
        "print(\"Размер батча: \", batch_size)\n",
        "\n",
        "# определяем количество классов\n",
        "num_classes = len(train_dataset.classes)\n",
        "print(\"Количество классов: \", num_classes)\n",
        "\n",
        "# определяем диапазон значений пикселей\n",
        "pixel_min = train_dataset.data.min()\n",
        "pixel_max = train_dataset.data.max()\n",
        "print(\"Минимальное значение пикселя: \", pixel_min)\n",
        "print(\"Максимальное значение пикселя: \", pixel_max)\n",
        "\n",
        "# определяем тип данных пикселей\n",
        "pixel_type = train_dataset.data.dtype\n",
        "print(\"Тип данных пикселей: \", pixel_type)"
      ],
      "metadata": {
        "id": "BtED7tA3-uMq",
        "colab": {
          "base_uri": "https://localhost:8080/"
        },
        "outputId": "5c9692f0-459f-4aa1-ecf9-7eb794c6f70b"
      },
      "execution_count": null,
      "outputs": [
        {
          "output_type": "stream",
          "name": "stdout",
          "text": [
            "Размер тренировочного датасета:  50000\n",
            "Размер тестового датасета:  10000\n",
            "Размер батча:  128\n",
            "Количество классов:  10\n",
            "Минимальное значение пикселя:  0\n",
            "Максимальное значение пикселя:  255\n",
            "Тип данных пикселей:  uint8\n"
          ]
        }
      ]
    },
    {
      "cell_type": "code",
      "source": [
        "classes = train_dataset.classes\n",
        "classes"
      ],
      "metadata": {
        "id": "XuGkI1QLPaSb",
        "colab": {
          "base_uri": "https://localhost:8080/"
        },
        "outputId": "b3f1ae70-5e00-4678-bc6b-dc3636938efc"
      },
      "execution_count": null,
      "outputs": [
        {
          "output_type": "execute_result",
          "data": {
            "text/plain": [
              "['airplane',\n",
              " 'automobile',\n",
              " 'bird',\n",
              " 'cat',\n",
              " 'deer',\n",
              " 'dog',\n",
              " 'frog',\n",
              " 'horse',\n",
              " 'ship',\n",
              " 'truck']"
            ]
          },
          "metadata": {},
          "execution_count": 8
        }
      ]
    },
    {
      "cell_type": "code",
      "source": [
        "image, label = train_dataset[4]\n",
        "\n",
        "plt.imshow(image.permute(1, 2, 0))\n",
        "plt.show()"
      ],
      "metadata": {
        "id": "2pHcKZc--wMs",
        "colab": {
          "base_uri": "https://localhost:8080/",
          "height": 450
        },
        "outputId": "222330ae-9f11-49d2-e56c-bbdcec536529"
      },
      "execution_count": null,
      "outputs": [
        {
          "output_type": "stream",
          "name": "stderr",
          "text": [
            "WARNING:matplotlib.image:Clipping input data to the valid range for imshow with RGB data ([0..1] for floats or [0..255] for integers).\n"
          ]
        },
        {
          "output_type": "display_data",
          "data": {
            "text/plain": [
              "<Figure size 640x480 with 1 Axes>"
            ],
            "image/png": "[encoded data removed]"
          },
          "metadata": {}
        }
      ]
    },
    {
      "cell_type": "code",
      "source": [
        "class Net(nn.Module):\n",
        "    def __init__(self):\n",
        "        super().__init__()\n",
        "        self.conv1 = nn.Conv2d(3, 32, 5, 1, padding=2)\n",
        "        self.conv2 = nn.Conv2d(32, 64, 3, 1, padding=1)\n",
        "        self.conv3 = nn.Conv2d(64, 128, 3, 1, padding=1)\n",
        "        self.fc1 = nn.Linear(8*8*128, 500)\n",
        "        self.dropout1 = nn.Dropout(0.2)\n",
        "        self.fc2 = nn.Linear(500, 10)\n",
        "\n",
        "    def forward(self, x):\n",
        "        x = F.relu(self.conv1(x))\n",
        "        x = F.max_pool2d(x, 2, 2)\n",
        "        x = F.relu(self.conv2(x))\n",
        "        x = F.max_pool2d(x, 2, 2)\n",
        "        x = F.relu(self.conv3(x))\n",
        "        x = F.max_pool2d(x, 2, 2)\n",
        "        x = x.view(-1, 8*8*128)\n",
        "        x = F.relu(self.fc1(x))\n",
        "        x = self.dropout1(x)\n",
        "        x = self.fc2(x)\n",
        "        return x"
      ],
      "metadata": {
        "id": "GOEhOqEoCZra"
      },
      "execution_count": null,
      "outputs": []
    },
    {
      "cell_type": "code",
      "source": [
        "net = Net().cuda()"
      ],
      "metadata": {
        "id": "kelHe3iZC2j0"
      },
      "execution_count": null,
      "outputs": []
    },
    {
      "cell_type": "code",
      "source": [
        "loss_function = nn.CrossEntropyLoss()\n",
        "optimizer = torch.optim.Adam(net.parameters(), lr=0.0001)"
      ],
      "metadata": {
        "id": "ohlRzlg3C4FT"
      },
      "execution_count": null,
      "outputs": []
    },
    {
      "cell_type": "code",
      "source": [
        "epochs = 15\n",
        "running_loss_history = []\n",
        "running_corrects_history = []\n",
        "test_running_loss_history = []\n",
        "test_running_corrects_history = []"
      ],
      "metadata": {
        "id": "Ej69zGLwC5N7"
      },
      "execution_count": null,
      "outputs": []
    },
    {
      "cell_type": "code",
      "source": [
        "for e in range(epochs):\n",
        "\n",
        "  running_loss = 0.0\n",
        "  running_corrects = 0.0\n",
        "  test_running_loss = 0.0\n",
        "  test_running_corrects = 0.0\n",
        "\n",
        "  for inputs, labels in train_loader:\n",
        "    inputs = inputs.cuda()\n",
        "    labels = labels.cuda()\n",
        "    outputs = net(inputs)\n",
        "    loss = loss_function(outputs, labels)\n",
        "\n",
        "    optimizer.zero_grad()\n",
        "    loss.backward()\n",
        "    optimizer.step()\n",
        "    \n",
        "    _, preds = torch.max(outputs, 1)\n",
        "    running_loss += loss.item()\n",
        "    running_corrects += torch.sum(preds == labels.data)\n",
        "\n",
        "  with torch.no_grad():\n",
        "    for test_inputs, test_labels in test_loader:\n",
        "      test_inputs = test_inputs.cuda()\n",
        "      test_labels = test_labels.cuda()\n",
        "      test_outputs = net(test_inputs)\n",
        "      test_loss = loss_function(test_outputs, test_labels)\n",
        "\n",
        "      _, test_preds = torch.max(test_outputs, 1)\n",
        "      test_running_loss += test_loss.item()\n",
        "      test_running_corrects += torch.sum(test_preds == test_labels.data)\n",
        "\n",
        "  epoch_loss = running_loss/(len(train_loader)*batch_size)\n",
        "  epoch_acc = running_corrects.float()/(len(train_loader)*batch_size)\n",
        "  running_loss_history.append(epoch_loss)\n",
        "  running_corrects_history.append(epoch_acc.cpu().numpy())\n",
        "\n",
        "  test_epoch_loss = test_running_loss/(len(test_loader)*batch_size)\n",
        "  test_epoch_acc = test_running_corrects.float()/(len(test_loader)*batch_size)\n",
        "  test_running_loss_history.append(test_epoch_loss)\n",
        "  test_running_corrects_history.append(test_epoch_acc.cpu().numpy())\n",
        "\n",
        "  print('epoch: ', e+1)\n",
        "  print('training_loss: {:.4f}, acc: {:.4f} '.format(epoch_loss, epoch_acc.item()))\n",
        "  print('test_loss: {:.4f}, test_acc: {:.4f} '.format(test_epoch_loss, test_epoch_acc.item()))"
      ],
      "metadata": {
        "id": "FOelsIHzC7FO",
        "colab": {
          "base_uri": "https://localhost:8080/"
        },
        "outputId": "b7703e3c-b0b3-4267-880c-f9970c278647"
      },
      "execution_count": null,
      "outputs": [
        {
          "output_type": "stream",
          "name": "stdout",
          "text": [
            "epoch:  1\n",
            "training_loss: 0.0134, acc: 0.3869 \n",
            "test_loss: 0.0116, test_acc: 0.4589 \n",
            "epoch:  2\n",
            "training_loss: 0.0109, acc: 0.5020 \n",
            "test_loss: 0.0103, test_acc: 0.5252 \n",
            "epoch:  3\n",
            "training_loss: 0.0099, acc: 0.5484 \n",
            "test_loss: 0.0096, test_acc: 0.5491 \n",
            "epoch:  4\n",
            "training_loss: 0.0092, acc: 0.5799 \n",
            "test_loss: 0.0092, test_acc: 0.5772 \n",
            "epoch:  5\n",
            "training_loss: 0.0086, acc: 0.6104 \n",
            "test_loss: 0.0086, test_acc: 0.6030 \n",
            "epoch:  6\n",
            "training_loss: 0.0081, acc: 0.6339 \n",
            "test_loss: 0.0084, test_acc: 0.6176 \n",
            "epoch:  7\n",
            "training_loss: 0.0076, acc: 0.6569 \n",
            "test_loss: 0.0080, test_acc: 0.6322 \n",
            "epoch:  8\n",
            "training_loss: 0.0072, acc: 0.6774 \n",
            "test_loss: 0.0078, test_acc: 0.6391 \n",
            "epoch:  9\n",
            "training_loss: 0.0068, acc: 0.6967 \n",
            "test_loss: 0.0075, test_acc: 0.6509 \n",
            "epoch:  10\n",
            "training_loss: 0.0064, acc: 0.7136 \n",
            "test_loss: 0.0075, test_acc: 0.6506 \n",
            "epoch:  11\n",
            "training_loss: 0.0061, acc: 0.7291 \n",
            "test_loss: 0.0072, test_acc: 0.6652 \n",
            "epoch:  12\n",
            "training_loss: 0.0057, acc: 0.7439 \n",
            "test_loss: 0.0071, test_acc: 0.6707 \n",
            "epoch:  13\n",
            "training_loss: 0.0054, acc: 0.7595 \n",
            "test_loss: 0.0070, test_acc: 0.6809 \n",
            "epoch:  14\n",
            "training_loss: 0.0051, acc: 0.7754 \n",
            "test_loss: 0.0070, test_acc: 0.6856 \n",
            "epoch:  15\n",
            "training_loss: 0.0048, acc: 0.7897 \n",
            "test_loss: 0.0070, test_acc: 0.6909 \n"
          ]
        }
      ]
    },
    {
      "cell_type": "code",
      "source": [
        "plt.style.use('ggplot')\n",
        "plt.plot(running_loss_history, label = 'training_loss')\n",
        "plt.plot(test_running_loss_history, label = 'test_loss')\n",
        "plt.legend()"
      ],
      "metadata": {
        "id": "T0Na4o8xPFOu",
        "colab": {
          "base_uri": "https://localhost:8080/",
          "height": 448
        },
        "outputId": "3575a04f-6252-40ce-9d8d-400099ec4513"
      },
      "execution_count": null,
      "outputs": [
        {
          "data": {
            "text/plain": [
              "<matplotlib.legend.Legend at 0x7fc670453790>"
            ]
          },
          "execution_count": 222,
          "metadata": {},
          "output_type": "execute_result"
        },
        {
          "output_type": "display_data",
          "data": {
            "text/plain": [
              "<Figure size 640x480 with 1 Axes>"
            ],
            "image/png": "[encoded data removed]"
          },
          "metadata": {}
        }
      ]
    },
    {
      "cell_type": "code",
      "source": [
        "plt.style.use('ggplot')\n",
        "plt.plot(running_corrects_history, label='training_acc')\n",
        "plt.plot(test_running_corrects_history, label='test_acc')\n",
        "plt.legend()"
      ],
      "metadata": {
        "id": "8ztDcEeePGkL",
        "colab": {
          "base_uri": "https://localhost:8080/",
          "height": 448
        },
        "outputId": "f579d170-b259-4f13-967a-8e65f8ee0608"
      },
      "execution_count": null,
      "outputs": [
        {
          "output_type": "execute_result",
          "data": {
            "text/plain": [
              "<matplotlib.legend.Legend at 0x7fc6729f64a0>"
            ]
          },
          "metadata": {},
          "execution_count": 223
        },
        {
          "output_type": "display_data",
          "data": {
            "text/plain": [
              "<Figure size 640x480 with 1 Axes>"
            ],
            "image/png": "[encoded data removed]"
          },
          "metadata": {}
        }
      ]
    },
    {
      "cell_type": "code",
      "source": [
        "correct = 0\n",
        "total = 0\n",
        "\n",
        "class_correct = list(0. for i in range(10))\n",
        "class_total = list(0. for i in range(10))\n",
        "\n",
        "with torch.no_grad():\n",
        "  for data in test_loader:\n",
        "    images, labels = data\n",
        "    images = images.cuda()\n",
        "    labels = labels.cuda()\n",
        "\n",
        "    outputs = net(images)\n",
        "    _, predicted = torch.max(outputs, 1)\n",
        "    total += labels.size(0)\n",
        "    correct += (predicted == labels).sum().item()\n",
        "    c = (predicted == labels).squeeze()\n",
        "    for i in range(4):\n",
        "      label = labels[i]\n",
        "      class_correct[label] += c[i].item()\n",
        "      class_total[label] += 1 \n",
        "\n",
        "for i in range(10):\n",
        "  print(\"Accurace of %5s : %2d %%\" % (classes[i], 100*class_correct[i]/class_total[i]))\n",
        "\n",
        "print()"
      ],
      "metadata": {
        "id": "beDfMMd0PLnu",
        "colab": {
          "base_uri": "https://localhost:8080/"
        },
        "outputId": "81ea54a5-3eb1-4839-d973-039758105997"
      },
      "execution_count": null,
      "outputs": [
        {
          "output_type": "stream",
          "name": "stdout",
          "text": [
            "Accurace of airplane : 75 %\n",
            "Accurace of automobile : 77 %\n",
            "Accurace of  bird : 60 %\n",
            "Accurace of   cat : 52 %\n",
            "Accurace of  deer : 50 %\n",
            "Accurace of   dog : 54 %\n",
            "Accurace of  frog : 73 %\n",
            "Accurace of horse : 77 %\n",
            "Accurace of  ship : 76 %\n",
            "Accurace of truck : 80 %\n",
            "\n"
          ]
        }
      ]
    },
    {
      "cell_type": "code",
      "source": [
        "class Net(nn.Module):\n",
        "    def __init__(self):\n",
        "        super().__init__()\n",
        "        self.conv1 = nn.Conv2d(3, 16, 3, 1, padding=1)\n",
        "        self.conv2 = nn.Conv2d(16, 32, 3, 1, padding=1)\n",
        "        self.conv3 = nn.Conv2d(32, 64, 3, 1, padding=1)\n",
        "        self.conv4 = nn.Conv2d(64, 128, 3, 1, padding=1)\n",
        "        self.fc1 = nn.Linear(8*8*128, 500)\n",
        "        self.fc2 = nn.Linear(500, 256) # Добавлен полносвязный слой fc2\n",
        "        self.dropout1 = nn.Dropout(0.2)\n",
        "        self.fc3 = nn.Linear(256, 10) # Добавлен полносвязный слой fc3\n",
        "        \n",
        "    def forward(self, x):\n",
        "        x = F.relu(self.conv1(x))\n",
        "        x = F.max_pool2d(x, 2, 2)\n",
        "        x = F.relu(self.conv2(x))\n",
        "        x = F.max_pool2d(x, 2, 2)\n",
        "        x = F.relu(self.conv3(x))\n",
        "        x = F.max_pool2d(x, 2, 2)\n",
        "        x = F.relu(self.conv4(x))\n",
        "        x = x.view(-1, 8*8*128)\n",
        "        x = F.relu(self.fc1(x))\n",
        "        x = F.relu(self.fc2(x)) # Добавлен полносвязный слой fc2\n",
        "        x = self.dropout1(x)\n",
        "        x = self.fc3(x) # Добавлен полносвязный слой fc3\n",
        "        return F.log_softmax(x, dim=1)"
      ],
      "metadata": {
        "id": "3q8zTGb9Pf4F"
      },
      "execution_count": null,
      "outputs": []
    },
    {
      "cell_type": "code",
      "source": [
        "net = Net().cuda()"
      ],
      "metadata": {
        "id": "skjQj1iqSN9z"
      },
      "execution_count": null,
      "outputs": []
    },
    {
      "cell_type": "code",
      "source": [
        "loss_function = nn.CrossEntropyLoss()\n",
        "optimizer = torch.optim.Adam(net.parameters(), lr=0.0001)"
      ],
      "metadata": {
        "id": "GN-hFd5RSPK7"
      },
      "execution_count": null,
      "outputs": []
    },
    {
      "cell_type": "code",
      "source": [
        "epochs = 15\n",
        "running_loss_history = []\n",
        "running_corrects_history = []\n",
        "test_running_loss_history = []\n",
        "test_running_corrects_history = []"
      ],
      "metadata": {
        "id": "f8_KA_gbSQRH"
      },
      "execution_count": null,
      "outputs": []
    },
    {
      "cell_type": "code",
      "source": [
        "for e in range(epochs):\n",
        "\n",
        "  running_loss = 0.0\n",
        "  running_corrects = 0.0\n",
        "  test_running_loss = 0.0\n",
        "  test_running_corrects = 0.0\n",
        "\n",
        "  for inputs, labels in train_loader:\n",
        "    inputs = inputs.cuda()\n",
        "    labels = labels.cuda()\n",
        "    outputs = net(inputs)\n",
        "    loss = loss_function(outputs, labels)\n",
        "\n",
        "    optimizer.zero_grad()\n",
        "    loss.backward()\n",
        "    optimizer.step()\n",
        "    \n",
        "    _, preds = torch.max(outputs, 1)\n",
        "    running_loss += loss.item()\n",
        "    running_corrects += torch.sum(preds == labels.data)\n",
        "\n",
        "  with torch.no_grad():\n",
        "    for test_inputs, test_labels in test_loader:\n",
        "      test_inputs = test_inputs.cuda()\n",
        "      test_labels = test_labels.cuda()\n",
        "      test_outputs = net(test_inputs)\n",
        "      test_loss = loss_function(test_outputs, test_labels)\n",
        "\n",
        "      _, test_preds = torch.max(test_outputs, 1)\n",
        "      test_running_loss += test_loss.item()\n",
        "      test_running_corrects += torch.sum(test_preds == test_labels.data)\n",
        "\n",
        "  epoch_loss = running_loss/(len(train_loader)*batch_size)\n",
        "  epoch_acc = running_corrects.float()/(len(train_loader)*batch_size)\n",
        "  running_loss_history.append(epoch_loss)\n",
        "  running_corrects_history.append(epoch_acc.cpu().numpy())\n",
        "\n",
        "  test_epoch_loss = test_running_loss/(len(test_loader)*batch_size)\n",
        "  test_epoch_acc = test_running_corrects.float()/(len(test_loader)*batch_size)\n",
        "  test_running_loss_history.append(test_epoch_loss)\n",
        "  test_running_corrects_history.append(test_epoch_acc.cpu().numpy())\n",
        "\n",
        "  print('epoch: ', e+1)\n",
        "  print('training_loss: {:.4f}, acc: {:.4f} '.format(epoch_loss, epoch_acc.item()))\n",
        "  print('test_loss: {:.4f}, test_acc: {:.4f} '.format(test_epoch_loss, test_epoch_acc.item()))"
      ],
      "metadata": {
        "colab": {
          "base_uri": "https://localhost:8080/"
        },
        "id": "KWCjmSLHSR2E",
        "outputId": "584b61e8-dd92-451c-d573-8bfcbbaa6e01"
      },
      "execution_count": null,
      "outputs": [
        {
          "output_type": "stream",
          "name": "stdout",
          "text": [
            "epoch:  1\n",
            "training_loss: 0.0146, acc: 0.3214 \n",
            "test_loss: 0.0126, test_acc: 0.4064 \n",
            "epoch:  2\n",
            "training_loss: 0.0120, acc: 0.4376 \n",
            "test_loss: 0.0114, test_acc: 0.4657 \n",
            "epoch:  3\n",
            "training_loss: 0.0111, acc: 0.4832 \n",
            "test_loss: 0.0107, test_acc: 0.5009 \n",
            "epoch:  4\n",
            "training_loss: 0.0105, acc: 0.5109 \n",
            "test_loss: 0.0103, test_acc: 0.5197 \n",
            "epoch:  5\n",
            "training_loss: 0.0101, acc: 0.5361 \n",
            "test_loss: 0.0098, test_acc: 0.5456 \n",
            "epoch:  6\n",
            "training_loss: 0.0096, acc: 0.5566 \n",
            "test_loss: 0.0096, test_acc: 0.5547 \n",
            "epoch:  7\n",
            "training_loss: 0.0092, acc: 0.5774 \n",
            "test_loss: 0.0092, test_acc: 0.5711 \n",
            "epoch:  8\n",
            "training_loss: 0.0088, acc: 0.5986 \n",
            "test_loss: 0.0090, test_acc: 0.5829 \n",
            "epoch:  9\n",
            "training_loss: 0.0084, acc: 0.6144 \n",
            "test_loss: 0.0087, test_acc: 0.5976 \n",
            "epoch:  10\n",
            "training_loss: 0.0080, acc: 0.6360 \n",
            "test_loss: 0.0083, test_acc: 0.6135 \n",
            "epoch:  11\n",
            "training_loss: 0.0077, acc: 0.6535 \n",
            "test_loss: 0.0081, test_acc: 0.6215 \n",
            "epoch:  12\n",
            "training_loss: 0.0073, acc: 0.6684 \n",
            "test_loss: 0.0078, test_acc: 0.6391 \n",
            "epoch:  13\n",
            "training_loss: 0.0070, acc: 0.6824 \n",
            "test_loss: 0.0077, test_acc: 0.6455 \n",
            "epoch:  14\n",
            "training_loss: 0.0067, acc: 0.6971 \n",
            "test_loss: 0.0075, test_acc: 0.6569 \n",
            "epoch:  15\n",
            "training_loss: 0.0064, acc: 0.7126 \n",
            "test_loss: 0.0074, test_acc: 0.6552 \n"
          ]
        }
      ]
    },
    {
      "cell_type": "code",
      "source": [
        "plt.style.use('ggplot')\n",
        "plt.plot(running_loss_history, label = 'training_loss')\n",
        "plt.plot(test_running_loss_history, label = 'test_loss')\n",
        "plt.legend()"
      ],
      "metadata": {
        "colab": {
          "base_uri": "https://localhost:8080/",
          "height": 226
        },
        "id": "h0uyGTc_e5bb",
        "outputId": "23c20c0f-1624-47c6-c2e8-dbf6bc929970"
      },
      "execution_count": null,
      "outputs": [
        {
          "output_type": "error",
          "ename": "NameError",
          "evalue": "ignored",
          "traceback": [
            "\u001b[0;31m---------------------------------------------------------------------------\u001b[0m",
            "\u001b[0;31mNameError\u001b[0m                                 Traceback (most recent call last)",
            "\u001b[0;32m<ipython-input-10-14ab9eab635b>\u001b[0m in \u001b[0;36m<cell line: 2>\u001b[0;34m()\u001b[0m\n\u001b[1;32m      1\u001b[0m \u001b[0mplt\u001b[0m\u001b[0;34m.\u001b[0m\u001b[0mstyle\u001b[0m\u001b[0;34m.\u001b[0m\u001b[0muse\u001b[0m\u001b[0;34m(\u001b[0m\u001b[0;34m'ggplot'\u001b[0m\u001b[0;34m)\u001b[0m\u001b[0;34m\u001b[0m\u001b[0;34m\u001b[0m\u001b[0m\n\u001b[0;32m----> 2\u001b[0;31m \u001b[0mplt\u001b[0m\u001b[0;34m.\u001b[0m\u001b[0mplot\u001b[0m\u001b[0;34m(\u001b[0m\u001b[0mrunning_loss_history\u001b[0m\u001b[0;34m,\u001b[0m \u001b[0mlabel\u001b[0m \u001b[0;34m=\u001b[0m \u001b[0;34m'training_loss'\u001b[0m\u001b[0;34m)\u001b[0m\u001b[0;34m\u001b[0m\u001b[0;34m\u001b[0m\u001b[0m\n\u001b[0m\u001b[1;32m      3\u001b[0m \u001b[0mplt\u001b[0m\u001b[0;34m.\u001b[0m\u001b[0mplot\u001b[0m\u001b[0;34m(\u001b[0m\u001b[0mtest_running_loss_history\u001b[0m\u001b[0;34m,\u001b[0m \u001b[0mlabel\u001b[0m \u001b[0;34m=\u001b[0m \u001b[0;34m'test_loss'\u001b[0m\u001b[0;34m)\u001b[0m\u001b[0;34m\u001b[0m\u001b[0;34m\u001b[0m\u001b[0m\n\u001b[1;32m      4\u001b[0m \u001b[0mplt\u001b[0m\u001b[0;34m.\u001b[0m\u001b[0mlegend\u001b[0m\u001b[0;34m(\u001b[0m\u001b[0;34m)\u001b[0m\u001b[0;34m\u001b[0m\u001b[0;34m\u001b[0m\u001b[0m\n",
            "\u001b[0;31mNameError\u001b[0m: name 'running_loss_history' is not defined"
          ]
        }
      ]
    },
    {
      "cell_type": "code",
      "source": [
        "plt.style.use('ggplot')\n",
        "plt.plot(running_corrects_history, label='training_acc')\n",
        "plt.plot(test_running_corrects_history, label='test_acc')\n",
        "plt.legend()"
      ],
      "metadata": {
        "id": "U8cANUyMe60E"
      },
      "execution_count": null,
      "outputs": []
    },
    {
      "cell_type": "code",
      "source": [
        "correct = 0\n",
        "total = 0\n",
        "\n",
        "class_correct = list(0. for i in range(10))\n",
        "class_total = list(0. for i in range(10))\n",
        "\n",
        "with torch.no_grad():\n",
        "  for data in test_loader:\n",
        "    images, labels = data\n",
        "    images = images.cuda()\n",
        "    labels = labels.cuda()\n",
        "\n",
        "    outputs = net(images)\n",
        "    _, predicted = torch.max(outputs, 1)\n",
        "    total += labels.size(0)\n",
        "    correct += (predicted == labels).sum().item()\n",
        "    c = (predicted == labels).squeeze()\n",
        "    for i in range(4):\n",
        "      label = labels[i]\n",
        "      class_correct[label] += c[i].item()\n",
        "      class_total[label] += 1 \n",
        "\n",
        "for i in range(10):\n",
        "  print(\"Accurace of %5s : %2d %%\" % (classes[i], 100*class_correct[i]/class_total[i]))\n",
        "\n",
        "print()"
      ],
      "metadata": {
        "id": "6r46PLIafArI"
      },
      "execution_count": null,
      "outputs": []
    },
    {
      "cell_type": "code",
      "source": [
        "class Net(nn.Module):\n",
        "  def __init__(self):\n",
        "    super().__init__()\n",
        "    self.conv_layers = nn.Sequential(\n",
        "        nn.Conv2d(3, 32, kernel_size=3, padding=1),\n",
        "        nn.BatchNorm2d(32),\n",
        "        nn.ReLU(inplace=True),\n",
        "        nn.Conv2d(32, 64, kernel_size=3, padding=1),\n",
        "        nn.BatchNorm2d(64),\n",
        "        nn.ReLU(inplace=True),\n",
        "        nn.MaxPool2d(kernel_size=2, stride=2),\n",
        "        \n",
        "        nn.Conv2d(64, 128, kernel_size=3, padding=1),\n",
        "        nn.BatchNorm2d(128),\n",
        "        nn.ReLU(inplace=True),\n",
        "        nn.Conv2d(128, 128, kernel_size=3, padding=1),\n",
        "        nn.BatchNorm2d(128),\n",
        "        nn.ReLU(inplace=True),\n",
        "        nn.MaxPool2d(kernel_size=2, stride=2),\n",
        "\n",
        "        nn.Conv2d(128, 256, kernel_size=3, padding=1),\n",
        "        nn.BatchNorm2d(256),\n",
        "        nn.ReLU(inplace=True),\n",
        "        nn.Conv2d(256, 256, kernel_size=3, padding=1),\n",
        "        nn.BatchNorm2d(256),\n",
        "        nn.ReLU(inplace=True),\n",
        "        nn.Conv2d(256, 256, kernel_size=3, padding=1),\n",
        "        nn.BatchNorm2d(256),\n",
        "        nn.ReLU(inplace=True),\n",
        "        nn.MaxPool2d(kernel_size=2, stride=2),\n",
        "\n",
        "        nn.Conv2d(256, 512, kernel_size=3, padding=1),\n",
        "        nn.BatchNorm2d(512),\n",
        "        nn.ReLU(inplace=True),\n",
        "        nn.Conv2d(512, 512, kernel_size=3, padding=1),\n",
        "        nn.BatchNorm2d(512),\n",
        "        nn.ReLU(inplace=True),\n",
        "        nn.Conv2d(512, 512, kernel_size=3, padding=1),\n",
        "        nn.BatchNorm2d(512),\n",
        "        nn.ReLU(inplace=True),\n",
        "        nn.MaxPool2d(kernel_size=2, stride=2),\n",
        "\n",
        "        nn.Conv2d(512, 512, kernel_size=3, padding=1),\n",
        "        nn.BatchNorm2d(512),\n",
        "        nn.ReLU(inplace=True),\n",
        "        nn.Conv2d(512, 512, kernel_size=3, padding=1),\n",
        "        nn.BatchNorm2d(512),\n",
        "        nn.ReLU(inplace=True),\n",
        "        nn.Conv2d(512, 512, kernel_size=3, padding=1),\n",
        "        nn.BatchNorm2d(512),\n",
        "        nn.ReLU(inplace=True),\n",
        "        nn.MaxPool2d(kernel_size=2, stride=2)\n",
        "    )\n",
        "\n",
        "    self.fc_layers = nn.Sequential(\n",
        "        nn.Linear(8*8*32, 2048),\n",
        "        nn.ReLU(inplace=True),\n",
        "        nn.Dropout(),\n",
        "        nn.Linear(2048, 2048),\n",
        "        nn.ReLU(inplace=True),\n",
        "        nn.Dropout(),\n",
        "        nn.Linear(2048, 10)\n",
        "    )\n",
        "\n",
        "  def forward(self, x):\n",
        "    x = self.conv_layers(x)\n",
        "    x = x.view(-1, 8*8*32)\n",
        "    x = self.fc_layers(x)\n",
        "    return x"
      ],
      "metadata": {
        "id": "xVzfBaqTfIAb"
      },
      "execution_count": null,
      "outputs": []
    },
    {
      "cell_type": "code",
      "source": [
        "net = Net().cuda()"
      ],
      "metadata": {
        "id": "zTfqnzIxfKX9"
      },
      "execution_count": null,
      "outputs": []
    },
    {
      "cell_type": "code",
      "source": [
        "loss_function = nn.CrossEntropyLoss()\n",
        "optimizer = torch.optim.Adam(net.parameters(), lr=0.0001)"
      ],
      "metadata": {
        "id": "A4el4AzFfQ6n"
      },
      "execution_count": null,
      "outputs": []
    },
    {
      "cell_type": "code",
      "source": [
        "epochs = 15\n",
        "running_loss_history = []\n",
        "running_corrects_history = []\n",
        "test_running_loss_history = []\n",
        "test_running_corrects_history = []"
      ],
      "metadata": {
        "id": "VR3kdx8PfQdv"
      },
      "execution_count": null,
      "outputs": []
    },
    {
      "cell_type": "code",
      "source": [
        "for e in range(epochs):\n",
        "\n",
        "  running_loss = 0.0\n",
        "  running_corrects = 0.0\n",
        "  test_running_loss = 0.0\n",
        "  test_running_corrects = 0.0\n",
        "\n",
        "  for inputs, labels in train_loader:\n",
        "    inputs = inputs.cuda()\n",
        "    labels = labels.cuda()\n",
        "    outputs = net(inputs)\n",
        "    loss = loss_function(outputs, labels)\n",
        "\n",
        "    optimizer.zero_grad()\n",
        "    loss.backward()\n",
        "    optimizer.step()\n",
        "    \n",
        "    _, preds = torch.max(outputs, 1)\n",
        "    running_loss += loss.item()\n",
        "    running_corrects += torch.sum(preds == labels.data)\n",
        "\n",
        "  with torch.no_grad():\n",
        "    for test_inputs, test_labels in test_loader:\n",
        "      test_inputs = test_inputs.cuda()\n",
        "      test_labels = test_labels.cuda()\n",
        "      test_outputs = net(test_inputs)\n",
        "      test_loss = loss_function(test_outputs, test_labels)\n",
        "\n",
        "      _, test_preds = torch.max(test_outputs, 1)\n",
        "      test_running_loss += test_loss.item()\n",
        "      test_running_corrects += torch.sum(test_preds == test_labels.data)\n",
        "\n",
        "  epoch_loss = running_loss/(len(train_loader)*batch_size)\n",
        "  epoch_acc = running_corrects.float()/(len(train_loader)*batch_size)\n",
        "  running_loss_history.append(epoch_loss)\n",
        "  running_corrects_history.append(epoch_acc.cpu().numpy())\n",
        "\n",
        "  test_epoch_loss = test_running_loss/(len(test_loader)*batch_size)\n",
        "  test_epoch_acc = test_running_corrects.float()/(len(test_loader)*batch_size)\n",
        "  test_running_loss_history.append(test_epoch_loss)\n",
        "  test_running_corrects_history.append(test_epoch_acc.cpu().numpy())\n",
        "\n",
        "  print('epoch: ', e+1)\n",
        "  print('training_loss: {:.4f}, acc: {:.4f} '.format(epoch_loss, epoch_acc.item()))\n",
        "  print('test_loss: {:.4f}, test_acc: {:.4f} '.format(test_epoch_loss, test_epoch_acc.item()))"
      ],
      "metadata": {
        "colab": {
          "base_uri": "https://localhost:8080/"
        },
        "id": "UtyZOOcPfLuz",
        "outputId": "63f24cf4-a14e-4e62-e3ed-4a4c43210a40"
      },
      "execution_count": null,
      "outputs": [
        {
          "output_type": "stream",
          "name": "stdout",
          "text": [
            "epoch:  1\n",
            "training_loss: 0.0105, acc: 0.5056 \n",
            "test_loss: 0.0080, test_acc: 0.6299 \n",
            "epoch:  2\n",
            "training_loss: 0.0063, acc: 0.7155 \n",
            "test_loss: 0.0056, test_acc: 0.7424 \n",
            "epoch:  3\n",
            "training_loss: 0.0046, acc: 0.7989 \n",
            "test_loss: 0.0051, test_acc: 0.7781 \n",
            "epoch:  4\n",
            "training_loss: 0.0035, acc: 0.8484 \n",
            "test_loss: 0.0047, test_acc: 0.7926 \n",
            "epoch:  5\n",
            "training_loss: 0.0028, acc: 0.8799 \n",
            "test_loss: 0.0043, test_acc: 0.8155 \n",
            "epoch:  6\n",
            "training_loss: 0.0021, acc: 0.9075 \n",
            "test_loss: 0.0043, test_acc: 0.8246 \n",
            "epoch:  7\n",
            "training_loss: 0.0017, acc: 0.9260 \n",
            "test_loss: 0.0045, test_acc: 0.8225 \n",
            "epoch:  8\n",
            "training_loss: 0.0013, acc: 0.9408 \n",
            "test_loss: 0.0044, test_acc: 0.8313 \n",
            "epoch:  9\n",
            "training_loss: 0.0011, acc: 0.9532 \n",
            "test_loss: 0.0047, test_acc: 0.8340 \n",
            "epoch:  10\n",
            "training_loss: 0.0009, acc: 0.9602 \n",
            "test_loss: 0.0045, test_acc: 0.8420 \n",
            "epoch:  11\n",
            "training_loss: 0.0008, acc: 0.9674 \n",
            "test_loss: 0.0051, test_acc: 0.8351 \n",
            "epoch:  12\n",
            "training_loss: 0.0006, acc: 0.9710 \n",
            "test_loss: 0.0052, test_acc: 0.8355 \n",
            "epoch:  13\n",
            "training_loss: 0.0006, acc: 0.9728 \n",
            "test_loss: 0.0056, test_acc: 0.8309 \n",
            "epoch:  14\n",
            "training_loss: 0.0005, acc: 0.9757 \n",
            "test_loss: 0.0055, test_acc: 0.8439 \n",
            "epoch:  15\n",
            "training_loss: 0.0005, acc: 0.9782 \n",
            "test_loss: 0.0055, test_acc: 0.8496 \n"
          ]
        }
      ]
    },
    {
      "cell_type": "code",
      "source": [
        "plt.style.use('ggplot')\n",
        "plt.plot(running_loss_history, label = 'training_loss')\n",
        "plt.plot(test_running_loss_history, label = 'test_loss')\n",
        "plt.legend()"
      ],
      "metadata": {
        "colab": {
          "base_uri": "https://localhost:8080/",
          "height": 448
        },
        "id": "ZzI8hlcYtF2K",
        "outputId": "5b32a515-6468-4f94-b848-ee6bbb88e89a"
      },
      "execution_count": null,
      "outputs": [
        {
          "output_type": "execute_result",
          "data": {
            "text/plain": [
              "<matplotlib.legend.Legend at 0x7f6bd7ff5810>"
            ]
          },
          "metadata": {},
          "execution_count": 25
        },
        {
          "output_type": "display_data",
          "data": {
            "text/plain": [
              "<Figure size 640x480 with 1 Axes>"
            ],
            "image/png": "[encoded data removed]"
          },
          "metadata": {}
        }
      ]
    },
    {
      "cell_type": "code",
      "source": [
        "plt.style.use('ggplot')\n",
        "plt.plot(running_corrects_history, label='training_acc')\n",
        "plt.plot(test_running_corrects_history, label='test_acc')\n",
        "plt.legend()"
      ],
      "metadata": {
        "colab": {
          "base_uri": "https://localhost:8080/",
          "height": 452
        },
        "id": "jcXKjNg3tIRb",
        "outputId": "5da6ff7f-f228-40f4-dca0-52075b85fb75"
      },
      "execution_count": null,
      "outputs": [
        {
          "output_type": "execute_result",
          "data": {
            "text/plain": [
              "<matplotlib.legend.Legend at 0x7f6bd5dd7970>"
            ]
          },
          "metadata": {},
          "execution_count": 26
        },
        {
          "output_type": "display_data",
          "data": {
            "text/plain": [
              "<Figure size 640x480 with 1 Axes>"
            ],
            "image/png": "[encoded data removed]"
          },
          "metadata": {}
        }
      ]
    },
    {
      "cell_type": "code",
      "source": [
        "correct = 0\n",
        "total = 0\n",
        "\n",
        "class_correct = list(0. for i in range(10))\n",
        "class_total = list(0. for i in range(10))\n",
        "\n",
        "with torch.no_grad():\n",
        "  for data in test_loader:\n",
        "    images, labels = data\n",
        "    images = images.cuda()\n",
        "    labels = labels.cuda()\n",
        "\n",
        "    outputs = net(images)\n",
        "    _, predicted = torch.max(outputs, 1)\n",
        "    total += labels.size(0)\n",
        "    correct += (predicted == labels).sum().item()\n",
        "    c = (predicted == labels).squeeze()\n",
        "    for i in range(4):\n",
        "      label = labels[i]\n",
        "      class_correct[label] += c[i].item()\n",
        "      class_total[label] += 1 \n",
        "\n",
        "for i in range(10):\n",
        "  print(\"Accurace of %5s : %2d %%\" % (classes[i], 100*class_correct[i]/class_total[i]))\n",
        "\n",
        "print()"
      ],
      "metadata": {
        "colab": {
          "base_uri": "https://localhost:8080/"
        },
        "id": "wLk1fbputLOg",
        "outputId": "892c234d-917a-4b3d-8969-016948c80c5f"
      },
      "execution_count": null,
      "outputs": [
        {
          "output_type": "stream",
          "name": "stdout",
          "text": [
            "Accurace of airplane : 85 %\n",
            "Accurace of automobile : 97 %\n",
            "Accurace of  bird : 88 %\n",
            "Accurace of   cat : 84 %\n",
            "Accurace of  deer : 82 %\n",
            "Accurace of   dog : 75 %\n",
            "Accurace of  frog : 93 %\n",
            "Accurace of horse : 84 %\n",
            "Accurace of  ship : 97 %\n",
            "Accurace of truck : 90 %\n",
            "\n"
          ]
        }
      ]
    }
  ]
}